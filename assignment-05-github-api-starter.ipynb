{
 "cells": [
  {
   "cell_type": "markdown",
   "metadata": {},
   "source": [
    "# API and Github\n",
    "\n",
    "Follow the instruction: https://www.notion.so/harryjwang/Assignment-5-API-and-Github-2cefb78d67ca4446b2cadb2afe6adecb"
   ]
  },
  {
   "cell_type": "code",
   "execution_count": 1,
   "metadata": {},
   "outputs": [],
   "source": [
    "# sample output"
   ]
  },
  {
   "cell_type": "code",
   "execution_count": 2,
   "metadata": {},
   "outputs": [],
   "source": [
    "# sample output"
   ]
  },
  {
   "cell_type": "code",
   "execution_count": 3,
   "metadata": {},
   "outputs": [],
   "source": [
    "import requests\n",
    "from urllib import response\n",
    "import json"
   ]
  },
  {
   "cell_type": "code",
   "execution_count": 4,
   "metadata": {},
   "outputs": [],
   "source": [
    "url = 'https://api.unsplash.com'\n",
    "headers = {\n",
    "    'Authorization': 'Client-ID nZ4MFxDpywIUtHElM2W49KZ8FapXue1FOxRSdSAB25k'  \n",
    "}"
   ]
  },
  {
   "cell_type": "code",
   "execution_count": 5,
   "metadata": {},
   "outputs": [],
   "source": [
    "the_photos=[]\n",
    "photos_id = []"
   ]
  },
  {
   "cell_type": "code",
   "execution_count": 6,
   "metadata": {},
   "outputs": [
    {
     "name": "stdout",
     "output_type": "stream",
     "text": [
      "https://api.unsplash.com/photos?page=1\n"
     ]
    }
   ],
   "source": [
    "photos_url = url + '/photos?page='+str(1)\n",
    "print(photos_url)\n",
    "response = requests.request('GET',photos_url,headers=headers)"
   ]
  },
  {
   "cell_type": "code",
   "execution_count": 7,
   "metadata": {},
   "outputs": [
    {
     "name": "stdout",
     "output_type": "stream",
     "text": [
      "https://api.unsplash.com/photos?page=1\n",
      "https://api.unsplash.com/photos?page=2\n",
      "https://api.unsplash.com/photos?page=3\n"
     ]
    }
   ],
   "source": [
    "k=1\n",
    "while len(photos_id)<30:\n",
    "    \n",
    "    photos_url = url + '/photos?page='+str(k)\n",
    "    print(photos_url)\n",
    "    response = requests.request('GET',photos_url,headers=headers)\n",
    "    photos=response.json()\n",
    "    for i in photos:\n",
    "        the_photos.append(i)\n",
    "    for j in the_photos:\n",
    "        photos_id.append(j['id'])\n",
    "    photos_id = list(set(photos_id))\n",
    "    k+=1\n"
   ]
  },
  {
   "cell_type": "code",
   "execution_count": 8,
   "metadata": {},
   "outputs": [],
   "source": [
    "the_photos_two=[]\n",
    "l=0\n",
    "for l in photos_id:\n",
    "    photos_url2=url + '/photos/'+str(l)\n",
    "    response = requests.request('GET',photos_url2,headers=headers)\n",
    "    photo=response.json()\n",
    "    the_photos_two.append(photo)\n",
    "    "
   ]
  },
  {
   "cell_type": "code",
   "execution_count": 24,
   "metadata": {},
   "outputs": [],
   "source": [
    "json_photo= open('photosJingyangFeng.json','w')\n",
    "json.dump(the_photos_two,json_photo)\n",
    "json_photo.close()"
   ]
  },
  {
   "cell_type": "code",
   "execution_count": 28,
   "metadata": {},
   "outputs": [],
   "source": [
    "f1=open('photosJingyangFeng.json','r')\n",
    "my_photo=json.load(f1)\n",
    "f1.close()\n"
   ]
  },
  {
   "cell_type": "code",
   "execution_count": 29,
   "metadata": {},
   "outputs": [],
   "source": [
    "f2=open('photos.json')\n",
    "his_photos=json.load(f2)\n",
    "f2.close()"
   ]
  },
  {
   "cell_type": "code",
   "execution_count": 36,
   "metadata": {},
   "outputs": [],
   "source": [
    "unique=[]\n",
    "the_sponsor=[]\n",
    "total_photo=his_photos\n",
    "count=0"
   ]
  },
  {
   "cell_type": "code",
   "execution_count": 37,
   "metadata": {},
   "outputs": [],
   "source": [
    "for i in photo:\n",
    "    unique.append(i['id'])\n",
    "for i in photos:\n",
    "    unique.append(i['id'])   \n",
    "unique=list(set(unique))\n"
   ]
  },
  {
   "cell_type": "code",
   "execution_count": 38,
   "metadata": {},
   "outputs": [],
   "source": [
    "for i in my_photo:\n",
    "   total_photo.append(i)"
   ]
  },
  {
   "cell_type": "code",
   "execution_count": 39,
   "metadata": {},
   "outputs": [],
   "source": [
    "for i in total_photo:\n",
    "    if i['sponsorship']is not None:\n",
    "        count += 1\n",
    "        the_sponsor.append(i['sponsorship']['sponsor']['name'])\n",
    "the_sponsor = list(set(the_sponsor))"
   ]
  },
  {
   "cell_type": "code",
   "execution_count": 40,
   "metadata": {},
   "outputs": [
    {
     "name": "stdout",
     "output_type": "stream",
     "text": [
      "There are 130 unique photos in the dataset\n",
      "29 photos are sponsored and the sponsor percentage is 18.12%\n",
      " There are 6 unique sponsors: ['Surface', 'Microsoft Edge', 'Microsoft 365', 'Samsung Memory', 'Mailchimp', 'Windows']\n"
     ]
    }
   ],
   "source": [
    "print(f'There are {len(unique)} unique photos in the dataset\\n{count} photos are sponsored and the sponsor percentage is {count/len(total_photo):.2%}\\n There are {len(the_sponsor)} unique sponsors: {(the_sponsor)}')"
   ]
  },
  {
   "cell_type": "code",
   "execution_count": 50,
   "metadata": {},
   "outputs": [],
   "source": [
    "a=[]\n",
    "the_a=[]\n",
    "index=0\n",
    "index_sum=[]"
   ]
  },
  {
   "cell_type": "code",
   "execution_count": 51,
   "metadata": {},
   "outputs": [],
   "source": [
    "for i in total_photo:\n",
    "    if i['exif']['make'] != None:\n",
    "        a.append(i['exif']['make'])\n",
    "the_a=list(set(a))"
   ]
  },
  {
   "cell_type": "code",
   "execution_count": 52,
   "metadata": {},
   "outputs": [
    {
     "name": "stdout",
     "output_type": "stream",
     "text": [
      "Out of 160 photos, 128 have camera information.\n",
      "The summary of camera make information is as follows:\n",
      "Canon: 48\n",
      "Hasselblad: 2\n",
      "NIKON CORPORATION: 25\n",
      "OLYMPUS CORPORATION: 1\n",
      "Apple: 2\n",
      "FUJIFILM: 14\n",
      "SONY: 29\n",
      "Fujifilm: 1\n",
      "Panasonic: 5\n",
      "DJI: 1\n"
     ]
    }
   ],
   "source": [
    "print(f'Out of {len(total_photo)} photos, {len(a)} have camera information.\\nThe summary of camera make information is as follows:')\n",
    "for i in the_a:\n",
    "    print(f'{i}: {a.count(i)}')"
   ]
  }
 ],
 "metadata": {
  "kernelspec": {
   "display_name": "Python 3.10.4 ('ds')",
   "language": "python",
   "name": "python3"
  },
  "language_info": {
   "codemirror_mode": {
    "name": "ipython",
    "version": 3
   },
   "file_extension": ".py",
   "mimetype": "text/x-python",
   "name": "python",
   "nbconvert_exporter": "python",
   "pygments_lexer": "ipython3",
   "version": "3.10.4"
  },
  "orig_nbformat": 4,
  "vscode": {
   "interpreter": {
    "hash": "0987a6adb39e037a530122f6e5bf826df493d42fa38ec523f13e0c2372ca0190"
   }
  }
 },
 "nbformat": 4,
 "nbformat_minor": 2
}
